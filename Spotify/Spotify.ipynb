{
 "cells": [
  {
   "cell_type": "code",
   "execution_count": 1,
   "metadata": {
    "colab": {
     "autoexec": {
      "startup": false,
      "wait_interval": 0
     }
    },
    "colab_type": "code",
    "id": "-xiVLlQI0SvL"
   },
   "outputs": [],
   "source": [
    "import pandas as pd\n",
    "from sklearn.preprocessing import StandardScaler, MaxAbsScaler, Binarizer, MinMaxScaler\n",
    "from sklearn.preprocessing import FunctionTransformer\n",
    "from sklearn.decomposition import PCA\n",
    "from sklearn.tree import DecisionTreeClassifier\n",
    "from sklearn.pipeline import Pipeline, FeatureUnion\n",
    "from sklearn.feature_selection import SelectKBest\n",
    "from sklearn.metrics import f1_score, confusion_matrix, classification_report, accuracy_score\n",
    "from sklearn.model_selection import train_test_split, cross_val_score, GridSearchCV\n",
    "\n",
    "%matplotlib inline"
   ]
  },
  {
   "cell_type": "markdown",
   "metadata": {
    "colab_type": "text",
    "id": "6VUt2b8L0SvP"
   },
   "source": [
    "# Spotify Song Attributes"
   ]
  },
  {
   "cell_type": "code",
   "execution_count": 2,
   "metadata": {
    "colab": {
     "autoexec": {
      "startup": false,
      "wait_interval": 0
     }
    },
    "colab_type": "code",
    "id": "R3IXy_KM0SvQ"
   },
   "outputs": [
    {
     "data": {
      "text/html": [
       "<div>\n",
       "<style scoped>\n",
       "    .dataframe tbody tr th:only-of-type {\n",
       "        vertical-align: middle;\n",
       "    }\n",
       "\n",
       "    .dataframe tbody tr th {\n",
       "        vertical-align: top;\n",
       "    }\n",
       "\n",
       "    .dataframe thead th {\n",
       "        text-align: right;\n",
       "    }\n",
       "</style>\n",
       "<table border=\"1\" class=\"dataframe\">\n",
       "  <thead>\n",
       "    <tr style=\"text-align: right;\">\n",
       "      <th></th>\n",
       "      <th>acousticness</th>\n",
       "      <th>danceability</th>\n",
       "      <th>duration_ms</th>\n",
       "      <th>energy</th>\n",
       "      <th>instrumentalness</th>\n",
       "      <th>key</th>\n",
       "      <th>liveness</th>\n",
       "      <th>loudness</th>\n",
       "      <th>mode</th>\n",
       "      <th>speechiness</th>\n",
       "      <th>tempo</th>\n",
       "      <th>time_signature</th>\n",
       "      <th>valence</th>\n",
       "      <th>target</th>\n",
       "      <th>song_title</th>\n",
       "      <th>artist</th>\n",
       "    </tr>\n",
       "  </thead>\n",
       "  <tbody>\n",
       "    <tr>\n",
       "      <th>0</th>\n",
       "      <td>0.0102</td>\n",
       "      <td>0.833</td>\n",
       "      <td>204600</td>\n",
       "      <td>0.434</td>\n",
       "      <td>0.021900</td>\n",
       "      <td>2</td>\n",
       "      <td>0.1650</td>\n",
       "      <td>-8.795</td>\n",
       "      <td>1</td>\n",
       "      <td>0.4310</td>\n",
       "      <td>150.062</td>\n",
       "      <td>4</td>\n",
       "      <td>0.286</td>\n",
       "      <td>1</td>\n",
       "      <td>Mask Off</td>\n",
       "      <td>Future</td>\n",
       "    </tr>\n",
       "    <tr>\n",
       "      <th>1</th>\n",
       "      <td>0.1990</td>\n",
       "      <td>0.743</td>\n",
       "      <td>326933</td>\n",
       "      <td>0.359</td>\n",
       "      <td>0.006110</td>\n",
       "      <td>1</td>\n",
       "      <td>0.1370</td>\n",
       "      <td>-10.401</td>\n",
       "      <td>1</td>\n",
       "      <td>0.0794</td>\n",
       "      <td>160.083</td>\n",
       "      <td>4</td>\n",
       "      <td>0.588</td>\n",
       "      <td>1</td>\n",
       "      <td>Redbone</td>\n",
       "      <td>Childish Gambino</td>\n",
       "    </tr>\n",
       "    <tr>\n",
       "      <th>2</th>\n",
       "      <td>0.0344</td>\n",
       "      <td>0.838</td>\n",
       "      <td>185707</td>\n",
       "      <td>0.412</td>\n",
       "      <td>0.000234</td>\n",
       "      <td>2</td>\n",
       "      <td>0.1590</td>\n",
       "      <td>-7.148</td>\n",
       "      <td>1</td>\n",
       "      <td>0.2890</td>\n",
       "      <td>75.044</td>\n",
       "      <td>4</td>\n",
       "      <td>0.173</td>\n",
       "      <td>1</td>\n",
       "      <td>Xanny Family</td>\n",
       "      <td>Future</td>\n",
       "    </tr>\n",
       "    <tr>\n",
       "      <th>3</th>\n",
       "      <td>0.6040</td>\n",
       "      <td>0.494</td>\n",
       "      <td>199413</td>\n",
       "      <td>0.338</td>\n",
       "      <td>0.510000</td>\n",
       "      <td>5</td>\n",
       "      <td>0.0922</td>\n",
       "      <td>-15.236</td>\n",
       "      <td>1</td>\n",
       "      <td>0.0261</td>\n",
       "      <td>86.468</td>\n",
       "      <td>4</td>\n",
       "      <td>0.230</td>\n",
       "      <td>1</td>\n",
       "      <td>Master Of None</td>\n",
       "      <td>Beach House</td>\n",
       "    </tr>\n",
       "    <tr>\n",
       "      <th>4</th>\n",
       "      <td>0.1800</td>\n",
       "      <td>0.678</td>\n",
       "      <td>392893</td>\n",
       "      <td>0.561</td>\n",
       "      <td>0.512000</td>\n",
       "      <td>5</td>\n",
       "      <td>0.4390</td>\n",
       "      <td>-11.648</td>\n",
       "      <td>0</td>\n",
       "      <td>0.0694</td>\n",
       "      <td>174.004</td>\n",
       "      <td>4</td>\n",
       "      <td>0.904</td>\n",
       "      <td>1</td>\n",
       "      <td>Parallel Lines</td>\n",
       "      <td>Junior Boys</td>\n",
       "    </tr>\n",
       "  </tbody>\n",
       "</table>\n",
       "</div>"
      ],
      "text/plain": [
       "   acousticness  danceability  duration_ms  energy  instrumentalness  key  \\\n",
       "0        0.0102         0.833       204600   0.434          0.021900    2   \n",
       "1        0.1990         0.743       326933   0.359          0.006110    1   \n",
       "2        0.0344         0.838       185707   0.412          0.000234    2   \n",
       "3        0.6040         0.494       199413   0.338          0.510000    5   \n",
       "4        0.1800         0.678       392893   0.561          0.512000    5   \n",
       "\n",
       "   liveness  loudness  mode  speechiness    tempo  time_signature  valence  \\\n",
       "0    0.1650    -8.795     1       0.4310  150.062               4    0.286   \n",
       "1    0.1370   -10.401     1       0.0794  160.083               4    0.588   \n",
       "2    0.1590    -7.148     1       0.2890   75.044               4    0.173   \n",
       "3    0.0922   -15.236     1       0.0261   86.468               4    0.230   \n",
       "4    0.4390   -11.648     0       0.0694  174.004               4    0.904   \n",
       "\n",
       "   target      song_title            artist  \n",
       "0       1        Mask Off            Future  \n",
       "1       1         Redbone  Childish Gambino  \n",
       "2       1    Xanny Family            Future  \n",
       "3       1  Master Of None       Beach House  \n",
       "4       1  Parallel Lines       Junior Boys  "
      ]
     },
     "execution_count": 2,
     "metadata": {},
     "output_type": "execute_result"
    }
   ],
   "source": [
    "data = pd.read_csv(\"data.csv\", encoding='latin-1', index_col = 0)\n",
    "data.head()"
   ]
  },
  {
   "cell_type": "code",
   "execution_count": 3,
   "metadata": {},
   "outputs": [
    {
     "name": "stdout",
     "output_type": "stream",
     "text": [
      "<class 'pandas.core.frame.DataFrame'>\n",
      "Int64Index: 2017 entries, 0 to 2016\n",
      "Data columns (total 16 columns):\n",
      "acousticness        2017 non-null float64\n",
      "danceability        2017 non-null float64\n",
      "duration_ms         2017 non-null int64\n",
      "energy              2017 non-null float64\n",
      "instrumentalness    2017 non-null float64\n",
      "key                 2017 non-null int64\n",
      "liveness            2017 non-null float64\n",
      "loudness            2017 non-null float64\n",
      "mode                2017 non-null int64\n",
      "speechiness         2017 non-null float64\n",
      "tempo               2017 non-null float64\n",
      "time_signature      2017 non-null int64\n",
      "valence             2017 non-null float64\n",
      "target              2017 non-null int64\n",
      "song_title          2017 non-null object\n",
      "artist              2017 non-null object\n",
      "dtypes: float64(9), int64(5), object(2)\n",
      "memory usage: 267.9+ KB\n"
     ]
    }
   ],
   "source": [
    "data.info()"
   ]
  },
  {
   "cell_type": "code",
   "execution_count": 4,
   "metadata": {},
   "outputs": [
    {
     "data": {
      "text/plain": [
       "1    1020\n",
       "0     997\n",
       "Name: target, dtype: int64"
      ]
     },
     "execution_count": 4,
     "metadata": {},
     "output_type": "execute_result"
    }
   ],
   "source": [
    "data['target'].value_counts()"
   ]
  },
  {
   "cell_type": "code",
   "execution_count": 5,
   "metadata": {},
   "outputs": [
    {
     "data": {
      "text/html": [
       "<div>\n",
       "<style scoped>\n",
       "    .dataframe tbody tr th:only-of-type {\n",
       "        vertical-align: middle;\n",
       "    }\n",
       "\n",
       "    .dataframe tbody tr th {\n",
       "        vertical-align: top;\n",
       "    }\n",
       "\n",
       "    .dataframe thead th {\n",
       "        text-align: right;\n",
       "    }\n",
       "</style>\n",
       "<table border=\"1\" class=\"dataframe\">\n",
       "  <thead>\n",
       "    <tr style=\"text-align: right;\">\n",
       "      <th></th>\n",
       "      <th>acousticness</th>\n",
       "      <th>danceability</th>\n",
       "      <th>duration_ms</th>\n",
       "      <th>energy</th>\n",
       "      <th>instrumentalness</th>\n",
       "      <th>key</th>\n",
       "      <th>liveness</th>\n",
       "      <th>loudness</th>\n",
       "      <th>mode</th>\n",
       "      <th>speechiness</th>\n",
       "      <th>tempo</th>\n",
       "      <th>time_signature</th>\n",
       "      <th>valence</th>\n",
       "      <th>target</th>\n",
       "    </tr>\n",
       "  </thead>\n",
       "  <tbody>\n",
       "    <tr>\n",
       "      <th>count</th>\n",
       "      <td>2017.000000</td>\n",
       "      <td>2017.000000</td>\n",
       "      <td>2.017000e+03</td>\n",
       "      <td>2017.000000</td>\n",
       "      <td>2017.000000</td>\n",
       "      <td>2017.000000</td>\n",
       "      <td>2017.000000</td>\n",
       "      <td>2017.000000</td>\n",
       "      <td>2017.000000</td>\n",
       "      <td>2017.000000</td>\n",
       "      <td>2017.000000</td>\n",
       "      <td>2017.000000</td>\n",
       "      <td>2017.000000</td>\n",
       "      <td>2017.000000</td>\n",
       "    </tr>\n",
       "    <tr>\n",
       "      <th>mean</th>\n",
       "      <td>0.187590</td>\n",
       "      <td>0.618422</td>\n",
       "      <td>2.463062e+05</td>\n",
       "      <td>0.681577</td>\n",
       "      <td>0.133286</td>\n",
       "      <td>5.342588</td>\n",
       "      <td>0.190844</td>\n",
       "      <td>-7.085624</td>\n",
       "      <td>0.612295</td>\n",
       "      <td>0.092664</td>\n",
       "      <td>121.603272</td>\n",
       "      <td>3.968270</td>\n",
       "      <td>0.496815</td>\n",
       "      <td>0.505702</td>\n",
       "    </tr>\n",
       "    <tr>\n",
       "      <th>std</th>\n",
       "      <td>0.259989</td>\n",
       "      <td>0.161029</td>\n",
       "      <td>8.198181e+04</td>\n",
       "      <td>0.210273</td>\n",
       "      <td>0.273162</td>\n",
       "      <td>3.648240</td>\n",
       "      <td>0.155453</td>\n",
       "      <td>3.761684</td>\n",
       "      <td>0.487347</td>\n",
       "      <td>0.089931</td>\n",
       "      <td>26.685604</td>\n",
       "      <td>0.255853</td>\n",
       "      <td>0.247195</td>\n",
       "      <td>0.500091</td>\n",
       "    </tr>\n",
       "    <tr>\n",
       "      <th>min</th>\n",
       "      <td>0.000003</td>\n",
       "      <td>0.122000</td>\n",
       "      <td>1.604200e+04</td>\n",
       "      <td>0.014800</td>\n",
       "      <td>0.000000</td>\n",
       "      <td>0.000000</td>\n",
       "      <td>0.018800</td>\n",
       "      <td>-33.097000</td>\n",
       "      <td>0.000000</td>\n",
       "      <td>0.023100</td>\n",
       "      <td>47.859000</td>\n",
       "      <td>1.000000</td>\n",
       "      <td>0.034800</td>\n",
       "      <td>0.000000</td>\n",
       "    </tr>\n",
       "    <tr>\n",
       "      <th>25%</th>\n",
       "      <td>0.009630</td>\n",
       "      <td>0.514000</td>\n",
       "      <td>2.000150e+05</td>\n",
       "      <td>0.563000</td>\n",
       "      <td>0.000000</td>\n",
       "      <td>2.000000</td>\n",
       "      <td>0.092300</td>\n",
       "      <td>-8.394000</td>\n",
       "      <td>0.000000</td>\n",
       "      <td>0.037500</td>\n",
       "      <td>100.189000</td>\n",
       "      <td>4.000000</td>\n",
       "      <td>0.295000</td>\n",
       "      <td>0.000000</td>\n",
       "    </tr>\n",
       "    <tr>\n",
       "      <th>50%</th>\n",
       "      <td>0.063300</td>\n",
       "      <td>0.631000</td>\n",
       "      <td>2.292610e+05</td>\n",
       "      <td>0.715000</td>\n",
       "      <td>0.000076</td>\n",
       "      <td>6.000000</td>\n",
       "      <td>0.127000</td>\n",
       "      <td>-6.248000</td>\n",
       "      <td>1.000000</td>\n",
       "      <td>0.054900</td>\n",
       "      <td>121.427000</td>\n",
       "      <td>4.000000</td>\n",
       "      <td>0.492000</td>\n",
       "      <td>1.000000</td>\n",
       "    </tr>\n",
       "    <tr>\n",
       "      <th>75%</th>\n",
       "      <td>0.265000</td>\n",
       "      <td>0.738000</td>\n",
       "      <td>2.703330e+05</td>\n",
       "      <td>0.846000</td>\n",
       "      <td>0.054000</td>\n",
       "      <td>9.000000</td>\n",
       "      <td>0.247000</td>\n",
       "      <td>-4.746000</td>\n",
       "      <td>1.000000</td>\n",
       "      <td>0.108000</td>\n",
       "      <td>137.849000</td>\n",
       "      <td>4.000000</td>\n",
       "      <td>0.691000</td>\n",
       "      <td>1.000000</td>\n",
       "    </tr>\n",
       "    <tr>\n",
       "      <th>max</th>\n",
       "      <td>0.995000</td>\n",
       "      <td>0.984000</td>\n",
       "      <td>1.004627e+06</td>\n",
       "      <td>0.998000</td>\n",
       "      <td>0.976000</td>\n",
       "      <td>11.000000</td>\n",
       "      <td>0.969000</td>\n",
       "      <td>-0.307000</td>\n",
       "      <td>1.000000</td>\n",
       "      <td>0.816000</td>\n",
       "      <td>219.331000</td>\n",
       "      <td>5.000000</td>\n",
       "      <td>0.992000</td>\n",
       "      <td>1.000000</td>\n",
       "    </tr>\n",
       "  </tbody>\n",
       "</table>\n",
       "</div>"
      ],
      "text/plain": [
       "       acousticness  danceability   duration_ms       energy  \\\n",
       "count   2017.000000   2017.000000  2.017000e+03  2017.000000   \n",
       "mean       0.187590      0.618422  2.463062e+05     0.681577   \n",
       "std        0.259989      0.161029  8.198181e+04     0.210273   \n",
       "min        0.000003      0.122000  1.604200e+04     0.014800   \n",
       "25%        0.009630      0.514000  2.000150e+05     0.563000   \n",
       "50%        0.063300      0.631000  2.292610e+05     0.715000   \n",
       "75%        0.265000      0.738000  2.703330e+05     0.846000   \n",
       "max        0.995000      0.984000  1.004627e+06     0.998000   \n",
       "\n",
       "       instrumentalness          key     liveness     loudness         mode  \\\n",
       "count       2017.000000  2017.000000  2017.000000  2017.000000  2017.000000   \n",
       "mean           0.133286     5.342588     0.190844    -7.085624     0.612295   \n",
       "std            0.273162     3.648240     0.155453     3.761684     0.487347   \n",
       "min            0.000000     0.000000     0.018800   -33.097000     0.000000   \n",
       "25%            0.000000     2.000000     0.092300    -8.394000     0.000000   \n",
       "50%            0.000076     6.000000     0.127000    -6.248000     1.000000   \n",
       "75%            0.054000     9.000000     0.247000    -4.746000     1.000000   \n",
       "max            0.976000    11.000000     0.969000    -0.307000     1.000000   \n",
       "\n",
       "       speechiness        tempo  time_signature      valence       target  \n",
       "count  2017.000000  2017.000000     2017.000000  2017.000000  2017.000000  \n",
       "mean      0.092664   121.603272        3.968270     0.496815     0.505702  \n",
       "std       0.089931    26.685604        0.255853     0.247195     0.500091  \n",
       "min       0.023100    47.859000        1.000000     0.034800     0.000000  \n",
       "25%       0.037500   100.189000        4.000000     0.295000     0.000000  \n",
       "50%       0.054900   121.427000        4.000000     0.492000     1.000000  \n",
       "75%       0.108000   137.849000        4.000000     0.691000     1.000000  \n",
       "max       0.816000   219.331000        5.000000     0.992000     1.000000  "
      ]
     },
     "execution_count": 5,
     "metadata": {},
     "output_type": "execute_result"
    }
   ],
   "source": [
    "data.describe()"
   ]
  },
  {
   "cell_type": "code",
   "execution_count": 6,
   "metadata": {},
   "outputs": [],
   "source": [
    "# scatter = pd.plotting.scatter_matrix(data, figsize=(15, 15), diagonal='hist')"
   ]
  },
  {
   "cell_type": "code",
   "execution_count": 7,
   "metadata": {},
   "outputs": [
    {
     "data": {
      "image/png": "[encoded data removed]",
      "text/plain": [
       "<Figure size 432x288 with 2 Axes>"
      ]
     },
     "metadata": {},
     "output_type": "display_data"
    }
   ],
   "source": [
    "ax = data.hist(column='danceability', by='target', bins=20, layout=(2,1), sharex=True, sharey=True)"
   ]
  },
  {
   "cell_type": "code",
   "execution_count": 8,
   "metadata": {},
   "outputs": [
    {
     "data": {
      "image/png": "[encoded data removed]",
      "text/plain": [
       "<Figure size 432x288 with 2 Axes>"
      ]
     },
     "metadata": {},
     "output_type": "display_data"
    }
   ],
   "source": [
    "ax = data.hist(column='acousticness', by='target', bins=20, layout=(2,1), sharex=True, sharey=True)"
   ]
  },
  {
   "cell_type": "code",
   "execution_count": 9,
   "metadata": {},
   "outputs": [
    {
     "data": {
      "image/png": "[encoded data removed]",
      "text/plain": [
       "<Figure size 432x288 with 2 Axes>"
      ]
     },
     "metadata": {},
     "output_type": "display_data"
    }
   ],
   "source": [
    "ax = data.hist(column='energy', by='target', bins=20, layout=(2,1), sharex=True, sharey=True)"
   ]
  },
  {
   "cell_type": "code",
   "execution_count": 10,
   "metadata": {},
   "outputs": [],
   "source": [
    "data = data.drop(['song_title', 'artist'], axis=1)"
   ]
  },
  {
   "cell_type": "code",
   "execution_count": 11,
   "metadata": {},
   "outputs": [
    {
     "data": {
      "text/html": [
       "<div>\n",
       "<style scoped>\n",
       "    .dataframe tbody tr th:only-of-type {\n",
       "        vertical-align: middle;\n",
       "    }\n",
       "\n",
       "    .dataframe tbody tr th {\n",
       "        vertical-align: top;\n",
       "    }\n",
       "\n",
       "    .dataframe thead th {\n",
       "        text-align: right;\n",
       "    }\n",
       "</style>\n",
       "<table border=\"1\" class=\"dataframe\">\n",
       "  <thead>\n",
       "    <tr style=\"text-align: right;\">\n",
       "      <th></th>\n",
       "      <th>acousticness</th>\n",
       "      <th>danceability</th>\n",
       "      <th>duration_ms</th>\n",
       "      <th>energy</th>\n",
       "      <th>instrumentalness</th>\n",
       "      <th>key</th>\n",
       "      <th>liveness</th>\n",
       "      <th>loudness</th>\n",
       "      <th>mode</th>\n",
       "      <th>speechiness</th>\n",
       "      <th>tempo</th>\n",
       "      <th>time_signature</th>\n",
       "      <th>valence</th>\n",
       "      <th>target</th>\n",
       "    </tr>\n",
       "  </thead>\n",
       "  <tbody>\n",
       "    <tr>\n",
       "      <th>0</th>\n",
       "      <td>0.0102</td>\n",
       "      <td>0.833</td>\n",
       "      <td>0.190735</td>\n",
       "      <td>0.434</td>\n",
       "      <td>0.021900</td>\n",
       "      <td>2</td>\n",
       "      <td>0.1650</td>\n",
       "      <td>0.741141</td>\n",
       "      <td>1</td>\n",
       "      <td>0.4310</td>\n",
       "      <td>0.596033</td>\n",
       "      <td>4</td>\n",
       "      <td>0.286</td>\n",
       "      <td>1</td>\n",
       "    </tr>\n",
       "    <tr>\n",
       "      <th>1</th>\n",
       "      <td>0.1990</td>\n",
       "      <td>0.743</td>\n",
       "      <td>0.314481</td>\n",
       "      <td>0.359</td>\n",
       "      <td>0.006110</td>\n",
       "      <td>1</td>\n",
       "      <td>0.1370</td>\n",
       "      <td>0.692162</td>\n",
       "      <td>1</td>\n",
       "      <td>0.0794</td>\n",
       "      <td>0.654474</td>\n",
       "      <td>4</td>\n",
       "      <td>0.588</td>\n",
       "      <td>1</td>\n",
       "    </tr>\n",
       "    <tr>\n",
       "      <th>2</th>\n",
       "      <td>0.0344</td>\n",
       "      <td>0.838</td>\n",
       "      <td>0.171624</td>\n",
       "      <td>0.412</td>\n",
       "      <td>0.000234</td>\n",
       "      <td>2</td>\n",
       "      <td>0.1590</td>\n",
       "      <td>0.791369</td>\n",
       "      <td>1</td>\n",
       "      <td>0.2890</td>\n",
       "      <td>0.158539</td>\n",
       "      <td>4</td>\n",
       "      <td>0.173</td>\n",
       "      <td>1</td>\n",
       "    </tr>\n",
       "    <tr>\n",
       "      <th>3</th>\n",
       "      <td>0.6040</td>\n",
       "      <td>0.494</td>\n",
       "      <td>0.185488</td>\n",
       "      <td>0.338</td>\n",
       "      <td>0.510000</td>\n",
       "      <td>5</td>\n",
       "      <td>0.0922</td>\n",
       "      <td>0.544709</td>\n",
       "      <td>1</td>\n",
       "      <td>0.0261</td>\n",
       "      <td>0.225162</td>\n",
       "      <td>4</td>\n",
       "      <td>0.230</td>\n",
       "      <td>1</td>\n",
       "    </tr>\n",
       "    <tr>\n",
       "      <th>4</th>\n",
       "      <td>0.1800</td>\n",
       "      <td>0.678</td>\n",
       "      <td>0.381202</td>\n",
       "      <td>0.561</td>\n",
       "      <td>0.512000</td>\n",
       "      <td>5</td>\n",
       "      <td>0.4390</td>\n",
       "      <td>0.654132</td>\n",
       "      <td>0</td>\n",
       "      <td>0.0694</td>\n",
       "      <td>0.735659</td>\n",
       "      <td>4</td>\n",
       "      <td>0.904</td>\n",
       "      <td>1</td>\n",
       "    </tr>\n",
       "  </tbody>\n",
       "</table>\n",
       "</div>"
      ],
      "text/plain": [
       "   acousticness  danceability  duration_ms  energy  instrumentalness  key  \\\n",
       "0        0.0102         0.833     0.190735   0.434          0.021900    2   \n",
       "1        0.1990         0.743     0.314481   0.359          0.006110    1   \n",
       "2        0.0344         0.838     0.171624   0.412          0.000234    2   \n",
       "3        0.6040         0.494     0.185488   0.338          0.510000    5   \n",
       "4        0.1800         0.678     0.381202   0.561          0.512000    5   \n",
       "\n",
       "   liveness  loudness  mode  speechiness     tempo  time_signature  valence  \\\n",
       "0    0.1650  0.741141     1       0.4310  0.596033               4    0.286   \n",
       "1    0.1370  0.692162     1       0.0794  0.654474               4    0.588   \n",
       "2    0.1590  0.791369     1       0.2890  0.158539               4    0.173   \n",
       "3    0.0922  0.544709     1       0.0261  0.225162               4    0.230   \n",
       "4    0.4390  0.654132     0       0.0694  0.735659               4    0.904   \n",
       "\n",
       "   target  \n",
       "0       1  \n",
       "1       1  \n",
       "2       1  \n",
       "3       1  \n",
       "4       1  "
      ]
     },
     "execution_count": 11,
     "metadata": {},
     "output_type": "execute_result"
    }
   ],
   "source": [
    "# apply MinMaxScaler to numeric features\n",
    "data['duration_ms'] = MinMaxScaler().fit(data[['duration_ms']]).transform(data[['duration_ms']])\n",
    "data['loudness'] = MinMaxScaler().fit(data[['loudness']]).transform(data[['loudness']])\n",
    "data['tempo'] = MinMaxScaler().fit(data[['tempo']]).transform(data[['tempo']])\n",
    "data.head()"
   ]
  },
  {
   "cell_type": "code",
   "execution_count": 12,
   "metadata": {},
   "outputs": [
    {
     "data": {
      "text/html": [
       "<div>\n",
       "<style scoped>\n",
       "    .dataframe tbody tr th:only-of-type {\n",
       "        vertical-align: middle;\n",
       "    }\n",
       "\n",
       "    .dataframe tbody tr th {\n",
       "        vertical-align: top;\n",
       "    }\n",
       "\n",
       "    .dataframe thead th {\n",
       "        text-align: right;\n",
       "    }\n",
       "</style>\n",
       "<table border=\"1\" class=\"dataframe\">\n",
       "  <thead>\n",
       "    <tr style=\"text-align: right;\">\n",
       "      <th></th>\n",
       "      <th>acousticness</th>\n",
       "      <th>danceability</th>\n",
       "      <th>duration_ms</th>\n",
       "      <th>energy</th>\n",
       "      <th>instrumentalness</th>\n",
       "      <th>liveness</th>\n",
       "      <th>loudness</th>\n",
       "      <th>speechiness</th>\n",
       "      <th>tempo</th>\n",
       "      <th>valence</th>\n",
       "      <th>...</th>\n",
       "      <th>key_8</th>\n",
       "      <th>key_9</th>\n",
       "      <th>key_10</th>\n",
       "      <th>key_11</th>\n",
       "      <th>mode_0</th>\n",
       "      <th>mode_1</th>\n",
       "      <th>time_signature_1</th>\n",
       "      <th>time_signature_3</th>\n",
       "      <th>time_signature_4</th>\n",
       "      <th>time_signature_5</th>\n",
       "    </tr>\n",
       "  </thead>\n",
       "  <tbody>\n",
       "    <tr>\n",
       "      <th>0</th>\n",
       "      <td>0.0102</td>\n",
       "      <td>0.833</td>\n",
       "      <td>0.190735</td>\n",
       "      <td>0.434</td>\n",
       "      <td>0.021900</td>\n",
       "      <td>0.1650</td>\n",
       "      <td>0.741141</td>\n",
       "      <td>0.4310</td>\n",
       "      <td>0.596033</td>\n",
       "      <td>0.286</td>\n",
       "      <td>...</td>\n",
       "      <td>0</td>\n",
       "      <td>0</td>\n",
       "      <td>0</td>\n",
       "      <td>0</td>\n",
       "      <td>0</td>\n",
       "      <td>1</td>\n",
       "      <td>0</td>\n",
       "      <td>0</td>\n",
       "      <td>1</td>\n",
       "      <td>0</td>\n",
       "    </tr>\n",
       "    <tr>\n",
       "      <th>1</th>\n",
       "      <td>0.1990</td>\n",
       "      <td>0.743</td>\n",
       "      <td>0.314481</td>\n",
       "      <td>0.359</td>\n",
       "      <td>0.006110</td>\n",
       "      <td>0.1370</td>\n",
       "      <td>0.692162</td>\n",
       "      <td>0.0794</td>\n",
       "      <td>0.654474</td>\n",
       "      <td>0.588</td>\n",
       "      <td>...</td>\n",
       "      <td>0</td>\n",
       "      <td>0</td>\n",
       "      <td>0</td>\n",
       "      <td>0</td>\n",
       "      <td>0</td>\n",
       "      <td>1</td>\n",
       "      <td>0</td>\n",
       "      <td>0</td>\n",
       "      <td>1</td>\n",
       "      <td>0</td>\n",
       "    </tr>\n",
       "    <tr>\n",
       "      <th>2</th>\n",
       "      <td>0.0344</td>\n",
       "      <td>0.838</td>\n",
       "      <td>0.171624</td>\n",
       "      <td>0.412</td>\n",
       "      <td>0.000234</td>\n",
       "      <td>0.1590</td>\n",
       "      <td>0.791369</td>\n",
       "      <td>0.2890</td>\n",
       "      <td>0.158539</td>\n",
       "      <td>0.173</td>\n",
       "      <td>...</td>\n",
       "      <td>0</td>\n",
       "      <td>0</td>\n",
       "      <td>0</td>\n",
       "      <td>0</td>\n",
       "      <td>0</td>\n",
       "      <td>1</td>\n",
       "      <td>0</td>\n",
       "      <td>0</td>\n",
       "      <td>1</td>\n",
       "      <td>0</td>\n",
       "    </tr>\n",
       "    <tr>\n",
       "      <th>3</th>\n",
       "      <td>0.6040</td>\n",
       "      <td>0.494</td>\n",
       "      <td>0.185488</td>\n",
       "      <td>0.338</td>\n",
       "      <td>0.510000</td>\n",
       "      <td>0.0922</td>\n",
       "      <td>0.544709</td>\n",
       "      <td>0.0261</td>\n",
       "      <td>0.225162</td>\n",
       "      <td>0.230</td>\n",
       "      <td>...</td>\n",
       "      <td>0</td>\n",
       "      <td>0</td>\n",
       "      <td>0</td>\n",
       "      <td>0</td>\n",
       "      <td>0</td>\n",
       "      <td>1</td>\n",
       "      <td>0</td>\n",
       "      <td>0</td>\n",
       "      <td>1</td>\n",
       "      <td>0</td>\n",
       "    </tr>\n",
       "    <tr>\n",
       "      <th>4</th>\n",
       "      <td>0.1800</td>\n",
       "      <td>0.678</td>\n",
       "      <td>0.381202</td>\n",
       "      <td>0.561</td>\n",
       "      <td>0.512000</td>\n",
       "      <td>0.4390</td>\n",
       "      <td>0.654132</td>\n",
       "      <td>0.0694</td>\n",
       "      <td>0.735659</td>\n",
       "      <td>0.904</td>\n",
       "      <td>...</td>\n",
       "      <td>0</td>\n",
       "      <td>0</td>\n",
       "      <td>0</td>\n",
       "      <td>0</td>\n",
       "      <td>1</td>\n",
       "      <td>0</td>\n",
       "      <td>0</td>\n",
       "      <td>0</td>\n",
       "      <td>1</td>\n",
       "      <td>0</td>\n",
       "    </tr>\n",
       "  </tbody>\n",
       "</table>\n",
       "<p>5 rows × 29 columns</p>\n",
       "</div>"
      ],
      "text/plain": [
       "   acousticness  danceability  duration_ms  energy  instrumentalness  \\\n",
       "0        0.0102         0.833     0.190735   0.434          0.021900   \n",
       "1        0.1990         0.743     0.314481   0.359          0.006110   \n",
       "2        0.0344         0.838     0.171624   0.412          0.000234   \n",
       "3        0.6040         0.494     0.185488   0.338          0.510000   \n",
       "4        0.1800         0.678     0.381202   0.561          0.512000   \n",
       "\n",
       "   liveness  loudness  speechiness     tempo  valence        ...         \\\n",
       "0    0.1650  0.741141       0.4310  0.596033    0.286        ...          \n",
       "1    0.1370  0.692162       0.0794  0.654474    0.588        ...          \n",
       "2    0.1590  0.791369       0.2890  0.158539    0.173        ...          \n",
       "3    0.0922  0.544709       0.0261  0.225162    0.230        ...          \n",
       "4    0.4390  0.654132       0.0694  0.735659    0.904        ...          \n",
       "\n",
       "   key_8  key_9  key_10  key_11  mode_0  mode_1  time_signature_1  \\\n",
       "0      0      0       0       0       0       1                 0   \n",
       "1      0      0       0       0       0       1                 0   \n",
       "2      0      0       0       0       0       1                 0   \n",
       "3      0      0       0       0       0       1                 0   \n",
       "4      0      0       0       0       1       0                 0   \n",
       "\n",
       "   time_signature_3  time_signature_4  time_signature_5  \n",
       "0                 0                 1                 0  \n",
       "1                 0                 1                 0  \n",
       "2                 0                 1                 0  \n",
       "3                 0                 1                 0  \n",
       "4                 0                 1                 0  \n",
       "\n",
       "[5 rows x 29 columns]"
      ]
     },
     "execution_count": 12,
     "metadata": {},
     "output_type": "execute_result"
    }
   ],
   "source": [
    "# apply get dummies to categorial features\n",
    "data = pd.get_dummies(data, columns=['key', 'mode', 'time_signature'], drop_first=False)\n",
    "\n",
    "data.head()"
   ]
  },
  {
   "cell_type": "code",
   "execution_count": 13,
   "metadata": {},
   "outputs": [],
   "source": [
    "# data.loc[data.acousticness < 0.55, 'acousticness'] = 0\n",
    "# data.loc[data.acousticness >= 0.55, 'acousticness'] = 1\n",
    "\n",
    "# data.loc[data.energy < 0.4, 'energy'] = 0\n",
    "# data.loc[data.energy >= 0.4, 'energy'] = 1\n",
    "\n",
    "# data.head()"
   ]
  },
  {
   "cell_type": "code",
   "execution_count": 14,
   "metadata": {},
   "outputs": [
    {
     "name": "stderr",
     "output_type": "stream",
     "text": [
      "C:\\Users\\innbal.menashri\\AppData\\Local\\Continuum\\anaconda3\\lib\\site-packages\\sklearn\\model_selection\\_split.py:2026: FutureWarning: From version 0.21, test_size will always complement train_size unless both are specified.\n",
      "  FutureWarning)\n"
     ]
    }
   ],
   "source": [
    "train, test = train_test_split(data, train_size=0.75, random_state=54321)\n",
    "\n",
    "train, dev = train_test_split(train, train_size=0.7, random_state=54321)"
   ]
  },
  {
   "cell_type": "code",
   "execution_count": 15,
   "metadata": {},
   "outputs": [
    {
     "data": {
      "text/plain": [
       "1    264\n",
       "0    241\n",
       "Name: target, dtype: int64"
      ]
     },
     "execution_count": 15,
     "metadata": {},
     "output_type": "execute_result"
    }
   ],
   "source": [
    "test['target'].value_counts()"
   ]
  },
  {
   "cell_type": "code",
   "execution_count": 16,
   "metadata": {},
   "outputs": [
    {
     "data": {
      "text/plain": [
       "1    529\n",
       "0    529\n",
       "Name: target, dtype: int64"
      ]
     },
     "execution_count": 16,
     "metadata": {},
     "output_type": "execute_result"
    }
   ],
   "source": [
    "train['target'].value_counts()"
   ]
  },
  {
   "cell_type": "code",
   "execution_count": 17,
   "metadata": {},
   "outputs": [
    {
     "data": {
      "text/plain": [
       "1    227\n",
       "0    227\n",
       "Name: target, dtype: int64"
      ]
     },
     "execution_count": 17,
     "metadata": {},
     "output_type": "execute_result"
    }
   ],
   "source": [
    "dev['target'].value_counts()"
   ]
  },
  {
   "cell_type": "code",
   "execution_count": 18,
   "metadata": {},
   "outputs": [
    {
     "name": "stdout",
     "output_type": "stream",
     "text": [
      "DT features importance \n",
      "acousticness        0.030701\n",
      "danceability        0.100449\n",
      "duration_ms         0.035004\n",
      "energy              0.113532\n",
      "instrumentalness    0.275481\n",
      "liveness            0.014441\n",
      "loudness            0.161331\n",
      "speechiness         0.165376\n",
      "tempo               0.054234\n",
      "valence             0.049451\n",
      "key_0               0.000000\n",
      "key_1               0.000000\n",
      "key_2               0.000000\n",
      "key_3               0.000000\n",
      "key_4               0.000000\n",
      "key_5               0.000000\n",
      "key_6               0.000000\n",
      "key_7               0.000000\n",
      "key_8               0.000000\n",
      "key_9               0.000000\n",
      "key_10              0.000000\n",
      "key_11              0.000000\n",
      "mode_0              0.000000\n",
      "mode_1              0.000000\n",
      "time_signature_1    0.000000\n",
      "time_signature_3    0.000000\n",
      "time_signature_4    0.000000\n",
      "time_signature_5    0.000000\n",
      "dtype: float64\n",
      "********** DC confusion matrix (train)*************\n",
      "     0    1\n",
      "0  411  118\n",
      "1  100  429\n",
      "accuracy(train): 0.7939508506616257\n",
      "********** DC classification report (train) *************\n",
      "             precision    recall  f1-score   support\n",
      "\n",
      "          0       0.80      0.78      0.79       529\n",
      "          1       0.78      0.81      0.80       529\n",
      "\n",
      "avg / total       0.79      0.79      0.79      1058\n",
      "\n",
      "accuracy(dev): 0.7092511013215859\n",
      "********** DC classification report (test) *************\n",
      "             precision    recall  f1-score   support\n",
      "\n",
      "          0       0.71      0.71      0.71       227\n",
      "          1       0.71      0.71      0.71       227\n",
      "\n",
      "avg / total       0.71      0.71      0.71       454\n",
      "\n"
     ]
    }
   ],
   "source": [
    "#Fit to  the decision tree model \n",
    "dt = DecisionTreeClassifier(max_depth=5,\n",
    "                                   min_samples_split=10,\n",
    "                                   min_samples_leaf=10)\n",
    "X = train.drop('target', axis=1)\n",
    "y = train.target\n",
    "dt.fit(X, y)\n",
    "# Assest the model \n",
    "train['pred'] = dt.predict(X)\n",
    "print (\"DT features importance \")\n",
    "print (pd.Series(dt.feature_importances_,\n",
    "          index=X.columns))\n",
    "cm = confusion_matrix(y_true=train.target,\n",
    "                      y_pred=train.pred)\n",
    "print ( '********** DC confusion matrix (train)*************')\n",
    "print (pd.DataFrame(cm,\n",
    "             index=dt.classes_,\n",
    "             columns=dt.classes_))\n",
    "\n",
    "print ('accuracy(train):' , accuracy_score(y_true=train.target, y_pred=train.pred))\n",
    "print ( '********** DC classification report (train) *************')\n",
    "print (classification_report(y_true=train.target,\n",
    "                            y_pred=train.pred))\n",
    "\n",
    "# Validate the model on test \n",
    "X = dev.drop('target', axis=1)\n",
    "y = dev.target\n",
    "dev['pred'] = dt.predict(X)\n",
    "print ('accuracy(dev):' , accuracy_score(y_true=dev.target, y_pred=dev.pred))\n",
    "print ( '********** DC classification report (test) *************')\n",
    "print (classification_report(y_true=dev.target,\n",
    "                            y_pred=dev.pred))"
   ]
  },
  {
   "cell_type": "code",
   "execution_count": null,
   "metadata": {},
   "outputs": [],
   "source": []
  },
  {
   "cell_type": "markdown",
   "metadata": {
    "colab_type": "text",
    "id": "LMPKh5oF0Svw"
   },
   "source": [
    "### With pipeline"
   ]
  },
  {
   "cell_type": "markdown",
   "metadata": {
    "colab_type": "text",
    "id": "uXKAeCNB0Svx"
   },
   "source": [
    "The pipeline allows us to define a \"chain\" of transformers (and potentially an estimator at the end), which work as a single unit."
   ]
  },
  {
   "cell_type": "code",
   "execution_count": null,
   "metadata": {
    "colab": {
     "autoexec": {
      "startup": false,
      "wait_interval": 0
     }
    },
    "colab_type": "code",
    "id": "c2Zk9bf30Svy"
   },
   "outputs": [],
   "source": [
    "steps = [('scaler', scaler), \n",
    "         ('selector', selector),\n",
    "         ('pca', pca_transformer), \n",
    "         ('dt', dt_clf)]\n",
    "my_pipeline = Pipeline(steps)"
   ]
  },
  {
   "cell_type": "markdown",
   "metadata": {
    "colab_type": "text",
    "id": "g7PIASAr0Sv2"
   },
   "source": [
    "When we _fit()_ a pipeline, sklearn actually applies a chain of fit-transform operations, where the output of the first transformer is the input for the second one, the output of the second is the input of the third and so on. Pipelines also have a _transform()_ method, which applies the _transform()_ of the final transformer in the pipeline, and thus produces the transformed output.\n",
    "\n",
    "Similarly, if the last step of the piepeline is an estimator (only the final step is allowed to be an estimator), then the pipeline has a _predict()_ method, which applies _fit()_ and _transform()_ for each of the transformers, and applies _fit()_ and _predict()_ to the estimator."
   ]
  },
  {
   "cell_type": "code",
   "execution_count": null,
   "metadata": {
    "colab": {
     "autoexec": {
      "startup": false,
      "wait_interval": 0
     },
     "base_uri": "https://localhost:8080/",
     "height": 106
    },
    "colab_type": "code",
    "executionInfo": {
     "elapsed": 783,
     "status": "ok",
     "timestamp": 1530031330420,
     "user": {
      "displayName": "Amit Rappel",
      "photoUrl": "//lh5.googleusercontent.com/-Stg14jONmNc/AAAAAAAAAAI/AAAAAAAAAos/0hU6Y5dO8yk/s50-c-k-no/photo.jpg",
      "userId": "110543092444518971604"
     },
     "user_tz": -180
    },
    "id": "KqVnyXUI0Sv3",
    "outputId": "d7b77cdf-1605-40da-ae7f-ceec21d2246f"
   },
   "outputs": [],
   "source": [
    "my_pipeline.fit(X_train, y_train)"
   ]
  },
  {
   "cell_type": "code",
   "execution_count": null,
   "metadata": {
    "colab": {
     "autoexec": {
      "startup": false,
      "wait_interval": 0
     }
    },
    "colab_type": "code",
    "id": "t9DAoQZv0Sv-"
   },
   "outputs": [],
   "source": [
    "y_pred = my_pipeline.predict(X_train)"
   ]
  },
  {
   "cell_type": "code",
   "execution_count": null,
   "metadata": {
    "colab": {
     "autoexec": {
      "startup": false,
      "wait_interval": 0
     },
     "base_uri": "https://localhost:8080/",
     "height": 34
    },
    "colab_type": "code",
    "executionInfo": {
     "elapsed": 589,
     "status": "ok",
     "timestamp": 1530031337236,
     "user": {
      "displayName": "Amit Rappel",
      "photoUrl": "//lh5.googleusercontent.com/-Stg14jONmNc/AAAAAAAAAAI/AAAAAAAAAos/0hU6Y5dO8yk/s50-c-k-no/photo.jpg",
      "userId": "110543092444518971604"
     },
     "user_tz": -180
    },
    "id": "eyW0G-ZL0SwB",
    "outputId": "5d87ac43-3a8f-41ce-c17d-a5ffbac1d02b"
   },
   "outputs": [],
   "source": [
    "f1_score(y_true=y_train, y_pred=y_pred)"
   ]
  },
  {
   "cell_type": "markdown",
   "metadata": {
    "colab_type": "text",
    "id": "qlx1kze50SwD"
   },
   "source": [
    "It is helpful to think about a pipeline as either a _Transformer_ instance (if the last step is a transformer) or an _Estimator_ instance (if the last step is an estimator). Understanding that makes it rather intuitive to use a pipeline like any other element we've seen earlier, allowing scoring, cross-validation, grid-search, etc."
   ]
  },
  {
   "cell_type": "code",
   "execution_count": null,
   "metadata": {
    "colab": {
     "autoexec": {
      "startup": false,
      "wait_interval": 0
     },
     "base_uri": "https://localhost:8080/",
     "height": 104
    },
    "colab_type": "code",
    "executionInfo": {
     "elapsed": 821,
     "status": "ok",
     "timestamp": 1530031351001,
     "user": {
      "displayName": "Amit Rappel",
      "photoUrl": "//lh5.googleusercontent.com/-Stg14jONmNc/AAAAAAAAAAI/AAAAAAAAAos/0hU6Y5dO8yk/s50-c-k-no/photo.jpg",
      "userId": "110543092444518971604"
     },
     "user_tz": -180
    },
    "id": "n_AiIbny0SwE",
    "outputId": "08d6861f-a39b-4f00-a078-eb1097a7c067"
   },
   "outputs": [],
   "source": [
    "results = cross_val_score(my_pipeline, X_train, y_train, \n",
    "                          scoring='f1', cv=10)\n",
    "show_results(scores)"
   ]
  },
  {
   "cell_type": "markdown",
   "metadata": {
    "colab_type": "text",
    "id": "ZxDg5N7z0SwG"
   },
   "source": [
    "## Applying grid search"
   ]
  },
  {
   "cell_type": "markdown",
   "metadata": {
    "colab_type": "text",
    "id": "B2QrR2qy0SwH"
   },
   "source": [
    "As said above, it is possible to apply grid search to a pipeline. Actually, each of the pipeline steps can be accessed, and each of their (hyper)parameters can be tuned. This is done using a special syntax, where the name of the step and the name of the hyperparameter are separated by a double underline, like this: **estimator__parameter**."
   ]
  },
  {
   "cell_type": "code",
   "execution_count": null,
   "metadata": {
    "colab": {
     "autoexec": {
      "startup": false,
      "wait_interval": 0
     }
    },
    "colab_type": "code",
    "id": "PO2ofOsj0SwH",
    "outputId": "c04ee0fb-f100-4af4-b827-9b5b5c467c08"
   },
   "outputs": [],
   "source": [
    "params = {'selector__k': range(5, 9),\n",
    "          'pca__n_components': range(1, 5),\n",
    "          'dt__max_depth': range(1, 5)}\n",
    "gs = GridSearchCV(my_pipeline, param_grid=params)\n",
    "gs.fit(X_train, y_train)"
   ]
  },
  {
   "cell_type": "code",
   "execution_count": null,
   "metadata": {
    "colab": {
     "autoexec": {
      "startup": false,
      "wait_interval": 0
     }
    },
    "colab_type": "code",
    "id": "08R83swX0SwK",
    "outputId": "fb52c9a6-60de-4612-95a5-f53e89177496"
   },
   "outputs": [],
   "source": [
    "best_clf = gs.best_estimator_\n",
    "scores = cross_val_score(best_clf, X_train, y_train, scoring='f1', cv=10)\n",
    "show_results(scores)"
   ]
  },
  {
   "cell_type": "markdown",
   "metadata": {
    "colab_type": "text",
    "id": "n7MWqqJg0SwM"
   },
   "source": [
    "# Example 2"
   ]
  },
  {
   "cell_type": "markdown",
   "metadata": {
    "colab_type": "text",
    "id": "6sgD6lkg0SwN"
   },
   "source": [
    "Very often you wish to apply different transformations to different columns, and then \"collect\" all results into one final DataFrame. These two tasks can be done with **_FunctionTransformer_** and **_FeatureUnion_** respectively. Moreover we will see how several pipelines can be combined into a single pipeline."
   ]
  },
  {
   "cell_type": "markdown",
   "metadata": {
    "colab_type": "text",
    "id": "vSGn9GNF0SwO"
   },
   "source": [
    "## The data"
   ]
  },
  {
   "cell_type": "markdown",
   "metadata": {
    "colab_type": "text",
    "id": "YsI2D_Yl0SwO"
   },
   "source": [
    "The _Occupancy_ data records several parameters of an office, and our task is to predict whether someone is in the room. This is important e.g. for saving power in office buildings (More details can be found [here][occ]).\n",
    "\n",
    "[occ]: https://archive.ics.uci.edu/ml/datasets/Occupancy+Detection+ \"Occupancy detection - UCI\""
   ]
  },
  {
   "cell_type": "code",
   "execution_count": null,
   "metadata": {
    "colab": {
     "autoexec": {
      "startup": false,
      "wait_interval": 0
     }
    },
    "colab_type": "code",
    "id": "bW8gnZe70SwO",
    "outputId": "0ec2a76e-f67c-45ed-8596-e738bb25f17a"
   },
   "outputs": [],
   "source": [
    "occupancy = read_csv('occupancy.txt')\n",
    "occupancy.drop('date', axis=1, inplace=True)\n",
    "occupancy.head()"
   ]
  },
  {
   "cell_type": "code",
   "execution_count": null,
   "metadata": {
    "colab": {
     "autoexec": {
      "startup": false,
      "wait_interval": 0
     }
    },
    "colab_type": "code",
    "id": "9zdgb9Rk0SwR"
   },
   "outputs": [],
   "source": [
    "X = occupancy.drop('Occupancy', axis=1)\n",
    "y = occupancy['Occupancy']\n",
    "\n",
    "X_train, X_test, y_train, y_test = \\\n",
    "    train_test_split(X, y, train_size=0.7, random_state=0)"
   ]
  },
  {
   "cell_type": "markdown",
   "metadata": {
    "colab_type": "text",
    "id": "lycaRlgs0SwU"
   },
   "source": [
    "Let's have a look at the data."
   ]
  },
  {
   "cell_type": "code",
   "execution_count": null,
   "metadata": {
    "colab": {
     "autoexec": {
      "startup": false,
      "wait_interval": 0
     }
    },
    "colab_type": "code",
    "id": "weK29I1e0SwV",
    "outputId": "9f5b9f54-3b50-4578-ff85-7ed6e4b6c9f1"
   },
   "outputs": [],
   "source": [
    "hists = occupancy.hist(bins=100, layout=(2, 3), figsize=(10,7))"
   ]
  },
  {
   "cell_type": "markdown",
   "metadata": {
    "colab_type": "text",
    "id": "1lxLgD4f0SwY"
   },
   "source": [
    "## Preparing the pipeline"
   ]
  },
  {
   "cell_type": "markdown",
   "metadata": {
    "colab_type": "text",
    "id": "zT-US1pX0SwY"
   },
   "source": [
    "After inspecting the data we wish to do the following:\n",
    "\n",
    "* Temperature - Standard scaling\n",
    "* Humidity - Max-abs scaling\n",
    "* Light - Binarizing\n",
    "* CO2 - Binarizing\n",
    "* HumidityRatio - Max-abs scaling\n",
    "\n",
    "For that we write the relevant FunctionTransformers and their corresponding functions:"
   ]
  },
  {
   "cell_type": "code",
   "execution_count": null,
   "metadata": {
    "colab": {
     "autoexec": {
      "startup": false,
      "wait_interval": 0
     }
    },
    "colab_type": "code",
    "id": "feOZMFYC0Swa"
   },
   "outputs": [],
   "source": [
    "def get_cols_for_ss(df):\n",
    "    return df[['Temperature']]\n",
    "\n",
    "ss_selector = FunctionTransformer(func=get_cols_4_ss, validate=False)"
   ]
  },
  {
   "cell_type": "code",
   "execution_count": null,
   "metadata": {
    "colab": {
     "autoexec": {
      "startup": false,
      "wait_interval": 0
     }
    },
    "colab_type": "code",
    "id": "xiLTMGM60Swc"
   },
   "outputs": [],
   "source": [
    "def get_cols_for_mas(df):\n",
    "    return df[['Humidity', 'HumidityRatio']]\n",
    "\n",
    "mas_selector = FunctionTransformer(func=get_cols_4_mas, validate=False)"
   ]
  },
  {
   "cell_type": "code",
   "execution_count": null,
   "metadata": {
    "colab": {
     "autoexec": {
      "startup": false,
      "wait_interval": 0
     }
    },
    "colab_type": "code",
    "id": "qEnaKyQj0Swf"
   },
   "outputs": [],
   "source": [
    "def get_light(df):\n",
    "    return df[['Light']]\n",
    "\n",
    "light_selector = FunctionTransformer(func=get_light, validate=False)"
   ]
  },
  {
   "cell_type": "code",
   "execution_count": null,
   "metadata": {
    "colab": {
     "autoexec": {
      "startup": false,
      "wait_interval": 0
     }
    },
    "colab_type": "code",
    "id": "HcmOn0MM0Swi"
   },
   "outputs": [],
   "source": [
    "def get_co2(df):\n",
    "    return df[['CO2']]\n",
    "\n",
    "co2_selector = FunctionTransformer(func=get_co2, validate=False)"
   ]
  },
  {
   "cell_type": "markdown",
   "metadata": {
    "colab_type": "text",
    "id": "ffP48pbG0Swk"
   },
   "source": [
    "> **NOTE:** 'ss' stands for 'standard scaler', 'mas' for 'max-abs-scaler', and 'bin' for 'binarizer'.\n",
    "\n",
    "> **NOTE:** The argument _validate_ has to be set to _False_."
   ]
  },
  {
   "cell_type": "code",
   "execution_count": null,
   "metadata": {
    "colab": {
     "autoexec": {
      "startup": false,
      "wait_interval": 0
     }
    },
    "colab_type": "code",
    "id": "0cAPoI9Y0Swk"
   },
   "outputs": [],
   "source": [
    "ss_pipeline = Pipeline([('ss_selector', ss_selector), \n",
    "                        ('ss', StandardScaler())])\n",
    "mas_pipeline = Pipeline([('mas_selector', mas_selector), \n",
    "                         ('mas', MaxAbsScaler())])\n",
    "light_pipeline = Pipeline([('light_selector', light_selector), \n",
    "                           ('light_bin', Binarizer())])\n",
    "co2_pipeline = Pipeline([('co2_selector', co2_selector), \n",
    "                         ('co2_bin', Binarizer())])"
   ]
  },
  {
   "cell_type": "code",
   "execution_count": null,
   "metadata": {
    "colab": {
     "autoexec": {
      "startup": false,
      "wait_interval": 0
     }
    },
    "colab_type": "code",
    "id": "I_MYQBef0Swl"
   },
   "outputs": [],
   "source": [
    "trans_pipeline = FeatureUnion([('ss_pipeline', ss_pipeline), \n",
    "                               ('mas_pipeline', mas_pipeline), \n",
    "                               ('light_pipeline', light_pipeline), \n",
    "                               ('co2_pipeline', co2_pipeline)])"
   ]
  },
  {
   "cell_type": "markdown",
   "metadata": {
    "colab_type": "text",
    "id": "j95b-QZV0Swo"
   },
   "source": [
    "> **NOTE:** There are conveniency functions called _make_\\__pipeline()_ and _make_\\__union()_ that create objects assiging each step a name equivalent to the step object name."
   ]
  },
  {
   "cell_type": "code",
   "execution_count": null,
   "metadata": {
    "colab": {
     "autoexec": {
      "startup": false,
      "wait_interval": 0
     }
    },
    "colab_type": "code",
    "id": "ZZlpu53p0Swo",
    "outputId": "1381b5c2-aeb6-4dd0-c3cf-39b03b5d4573"
   },
   "outputs": [],
   "source": [
    "prepared_train = trans_pipeline.fit_transform(X_train)\n",
    "prepared_train"
   ]
  },
  {
   "cell_type": "markdown",
   "metadata": {
    "colab_type": "text",
    "id": "V2t5hP5u0Swr"
   },
   "source": [
    "Finally, we add a decision-tree classifier as the last step of the full pipeline."
   ]
  },
  {
   "cell_type": "code",
   "execution_count": null,
   "metadata": {
    "colab": {
     "autoexec": {
      "startup": false,
      "wait_interval": 0
     }
    },
    "colab_type": "code",
    "id": "Yc3Ryr8h0Swr"
   },
   "outputs": [],
   "source": [
    "dt_clf = DecisionTreeClassifier()"
   ]
  },
  {
   "cell_type": "code",
   "execution_count": null,
   "metadata": {
    "colab": {
     "autoexec": {
      "startup": false,
      "wait_interval": 0
     }
    },
    "colab_type": "code",
    "id": "utAO0LID0Sws"
   },
   "outputs": [],
   "source": [
    "full_pipeline = Pipeline([('trans_pipeline', trans_pipeline), \n",
    "                          ('dt_clf', dt_clf)])"
   ]
  },
  {
   "cell_type": "markdown",
   "metadata": {
    "colab_type": "text",
    "id": "Uhr_Yf7E0Swu"
   },
   "source": [
    "## Modelling"
   ]
  },
  {
   "cell_type": "code",
   "execution_count": null,
   "metadata": {
    "colab": {
     "autoexec": {
      "startup": false,
      "wait_interval": 0
     }
    },
    "colab_type": "code",
    "id": "WaZaPwyc0Swv"
   },
   "outputs": [],
   "source": [
    "full_pipeline.fit(X_train, y_train)\n",
    "y_train_pred = full_pipeline.predict(X_train)\n",
    "y_test_pred = full_pipeline.predict(X_test)"
   ]
  },
  {
   "cell_type": "code",
   "execution_count": null,
   "metadata": {
    "colab": {
     "autoexec": {
      "startup": false,
      "wait_interval": 0
     }
    },
    "colab_type": "code",
    "id": "G6M-u4Kq0Swv",
    "outputId": "6cfcb61b-4f03-47e4-9069-d56dd5ef90dc"
   },
   "outputs": [],
   "source": [
    "f1_score(y_train, y_train_pred)"
   ]
  },
  {
   "cell_type": "code",
   "execution_count": null,
   "metadata": {
    "colab": {
     "autoexec": {
      "startup": false,
      "wait_interval": 0
     }
    },
    "colab_type": "code",
    "id": "KvXYFwHZ0Sw2",
    "outputId": "00383722-eabc-4a70-b4b3-ef0c26099b0b"
   },
   "outputs": [],
   "source": [
    "f1_score(y_test, y_test_pred)"
   ]
  },
  {
   "cell_type": "code",
   "execution_count": null,
   "metadata": {
    "colab": {
     "autoexec": {
      "startup": false,
      "wait_interval": 0
     }
    },
    "colab_type": "code",
    "id": "TkjG6Ciw0Sw5"
   },
   "outputs": [],
   "source": []
  },
  {
   "cell_type": "code",
   "execution_count": null,
   "metadata": {},
   "outputs": [],
   "source": []
  }
 ],
 "metadata": {
  "anaconda-cloud": {},
  "colab": {
   "collapsed_sections": [],
   "default_view": {},
   "name": "Pipelines.ipynb",
   "provenance": [],
   "version": "0.3.2",
   "views": {}
  },
  "kernelspec": {
   "display_name": "Python 3",
   "language": "python",
   "name": "python3"
  },
  "language_info": {
   "codemirror_mode": {
    "name": "ipython",
    "version": 3
   },
   "file_extension": ".py",
   "mimetype": "text/x-python",
   "name": "python",
   "nbconvert_exporter": "python",
   "pygments_lexer": "ipython3",
   "version": "3.6.5"
  }
 },
 "nbformat": 4,
 "nbformat_minor": 1
}
