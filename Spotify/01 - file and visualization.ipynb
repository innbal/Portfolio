{
 "cells": [
  {
   "cell_type": "code",
   "execution_count": 1,
   "metadata": {},
   "outputs": [],
   "source": [
    "import numpy as np\n",
    "import pandas as pd\n",
    "from pandas import read_csv\n",
    "from sklearn.metrics import confusion_matrix, accuracy_score\n",
    "from sklearn.metrics import precision_score, recall_score, f1_score\n",
    "from sklearn.metrics import classification_report\n",
    "from sklearn.preprocessing import StandardScaler, MaxAbsScaler, Binarizer\n",
    "from sklearn.preprocessing import FunctionTransformer\n",
    "from sklearn.decomposition import PCA\n",
    "from sklearn.tree import DecisionTreeClassifier\n",
    "from sklearn.pipeline import Pipeline, FeatureUnion\n",
    "from sklearn.feature_selection import SelectKBest\n",
    "from sklearn.model_selection import train_test_split, cross_val_score, GridSearchCV\n",
    "\n",
    "%matplotlib inline"
   ]
  },
  {
   "cell_type": "markdown",
   "metadata": {},
   "source": [
    "# Spotify Song Attributes"
   ]
  },
  {
   "cell_type": "code",
   "execution_count": 18,
   "metadata": {},
   "outputs": [
    {
     "data": {
      "text/html": [
       "<div>\n",
       "<style scoped>\n",
       "    .dataframe tbody tr th:only-of-type {\n",
       "        vertical-align: middle;\n",
       "    }\n",
       "\n",
       "    .dataframe tbody tr th {\n",
       "        vertical-align: top;\n",
       "    }\n",
       "\n",
       "    .dataframe thead th {\n",
       "        text-align: right;\n",
       "    }\n",
       "</style>\n",
       "<table border=\"1\" class=\"dataframe\">\n",
       "  <thead>\n",
       "    <tr style=\"text-align: right;\">\n",
       "      <th></th>\n",
       "      <th>acousticness</th>\n",
       "      <th>danceability</th>\n",
       "      <th>duration_ms</th>\n",
       "      <th>energy</th>\n",
       "      <th>instrumentalness</th>\n",
       "      <th>key</th>\n",
       "      <th>liveness</th>\n",
       "      <th>loudness</th>\n",
       "      <th>mode</th>\n",
       "      <th>speechiness</th>\n",
       "      <th>tempo</th>\n",
       "      <th>time_signature</th>\n",
       "      <th>valence</th>\n",
       "      <th>target</th>\n",
       "      <th>song_title</th>\n",
       "      <th>artist</th>\n",
       "    </tr>\n",
       "  </thead>\n",
       "  <tbody>\n",
       "    <tr>\n",
       "      <th>0</th>\n",
       "      <td>0.0102</td>\n",
       "      <td>0.833</td>\n",
       "      <td>204600</td>\n",
       "      <td>0.434</td>\n",
       "      <td>0.021900</td>\n",
       "      <td>2</td>\n",
       "      <td>0.1650</td>\n",
       "      <td>-8.795</td>\n",
       "      <td>1</td>\n",
       "      <td>0.4310</td>\n",
       "      <td>150.062</td>\n",
       "      <td>4</td>\n",
       "      <td>0.286</td>\n",
       "      <td>1</td>\n",
       "      <td>Mask Off</td>\n",
       "      <td>Future</td>\n",
       "    </tr>\n",
       "    <tr>\n",
       "      <th>1</th>\n",
       "      <td>0.1990</td>\n",
       "      <td>0.743</td>\n",
       "      <td>326933</td>\n",
       "      <td>0.359</td>\n",
       "      <td>0.006110</td>\n",
       "      <td>1</td>\n",
       "      <td>0.1370</td>\n",
       "      <td>-10.401</td>\n",
       "      <td>1</td>\n",
       "      <td>0.0794</td>\n",
       "      <td>160.083</td>\n",
       "      <td>4</td>\n",
       "      <td>0.588</td>\n",
       "      <td>1</td>\n",
       "      <td>Redbone</td>\n",
       "      <td>Childish Gambino</td>\n",
       "    </tr>\n",
       "    <tr>\n",
       "      <th>2</th>\n",
       "      <td>0.0344</td>\n",
       "      <td>0.838</td>\n",
       "      <td>185707</td>\n",
       "      <td>0.412</td>\n",
       "      <td>0.000234</td>\n",
       "      <td>2</td>\n",
       "      <td>0.1590</td>\n",
       "      <td>-7.148</td>\n",
       "      <td>1</td>\n",
       "      <td>0.2890</td>\n",
       "      <td>75.044</td>\n",
       "      <td>4</td>\n",
       "      <td>0.173</td>\n",
       "      <td>1</td>\n",
       "      <td>Xanny Family</td>\n",
       "      <td>Future</td>\n",
       "    </tr>\n",
       "    <tr>\n",
       "      <th>3</th>\n",
       "      <td>0.6040</td>\n",
       "      <td>0.494</td>\n",
       "      <td>199413</td>\n",
       "      <td>0.338</td>\n",
       "      <td>0.510000</td>\n",
       "      <td>5</td>\n",
       "      <td>0.0922</td>\n",
       "      <td>-15.236</td>\n",
       "      <td>1</td>\n",
       "      <td>0.0261</td>\n",
       "      <td>86.468</td>\n",
       "      <td>4</td>\n",
       "      <td>0.230</td>\n",
       "      <td>1</td>\n",
       "      <td>Master Of None</td>\n",
       "      <td>Beach House</td>\n",
       "    </tr>\n",
       "    <tr>\n",
       "      <th>4</th>\n",
       "      <td>0.1800</td>\n",
       "      <td>0.678</td>\n",
       "      <td>392893</td>\n",
       "      <td>0.561</td>\n",
       "      <td>0.512000</td>\n",
       "      <td>5</td>\n",
       "      <td>0.4390</td>\n",
       "      <td>-11.648</td>\n",
       "      <td>0</td>\n",
       "      <td>0.0694</td>\n",
       "      <td>174.004</td>\n",
       "      <td>4</td>\n",
       "      <td>0.904</td>\n",
       "      <td>1</td>\n",
       "      <td>Parallel Lines</td>\n",
       "      <td>Junior Boys</td>\n",
       "    </tr>\n",
       "  </tbody>\n",
       "</table>\n",
       "</div>"
      ],
      "text/plain": [
       "   acousticness  danceability  duration_ms  energy  instrumentalness  key  \\\n",
       "0        0.0102         0.833       204600   0.434          0.021900    2   \n",
       "1        0.1990         0.743       326933   0.359          0.006110    1   \n",
       "2        0.0344         0.838       185707   0.412          0.000234    2   \n",
       "3        0.6040         0.494       199413   0.338          0.510000    5   \n",
       "4        0.1800         0.678       392893   0.561          0.512000    5   \n",
       "\n",
       "   liveness  loudness  mode  speechiness    tempo  time_signature  valence  \\\n",
       "0    0.1650    -8.795     1       0.4310  150.062               4    0.286   \n",
       "1    0.1370   -10.401     1       0.0794  160.083               4    0.588   \n",
       "2    0.1590    -7.148     1       0.2890   75.044               4    0.173   \n",
       "3    0.0922   -15.236     1       0.0261   86.468               4    0.230   \n",
       "4    0.4390   -11.648     0       0.0694  174.004               4    0.904   \n",
       "\n",
       "   target      song_title            artist  \n",
       "0       1        Mask Off            Future  \n",
       "1       1         Redbone  Childish Gambino  \n",
       "2       1    Xanny Family            Future  \n",
       "3       1  Master Of None       Beach House  \n",
       "4       1  Parallel Lines       Junior Boys  "
      ]
     },
     "execution_count": 18,
     "metadata": {},
     "output_type": "execute_result"
    }
   ],
   "source": [
    "data = pd.read_csv(\"data.csv\", encoding='latin-1', index_col = 0)\n",
    "data.head()"
   ]
  },
  {
   "cell_type": "code",
   "execution_count": null,
   "metadata": {},
   "outputs": [],
   "source": [
    "data.iloc[::100]"
   ]
  },
  {
   "cell_type": "code",
   "execution_count": 6,
   "metadata": {},
   "outputs": [
    {
     "data": {
      "text/plain": [
       "1    1020\n",
       "0     997\n",
       "Name: target, dtype: int64"
      ]
     },
     "execution_count": 6,
     "metadata": {},
     "output_type": "execute_result"
    }
   ],
   "source": [
    "data['target'].value_counts()"
   ]
  },
  {
   "cell_type": "code",
   "execution_count": null,
   "metadata": {},
   "outputs": [],
   "source": [
    "ax = data.hist(column='danceability', by='target', bins=20, layout=(2,1), sharex=True, sharey=True)"
   ]
  },
  {
   "cell_type": "code",
   "execution_count": null,
   "metadata": {},
   "outputs": [],
   "source": [
    "scatter = pd.plotting.scatter_matrix(data, figsize=(12, 8), diagonal='hist')"
   ]
  },
  {
   "cell_type": "code",
   "execution_count": 19,
   "metadata": {},
   "outputs": [],
   "source": [
    "data = pd.get_dummies(data, columns=['key', 'mode', 'time_signature'], drop_first=False)"
   ]
  },
  {
   "cell_type": "code",
   "execution_count": null,
   "metadata": {
    "scrolled": true
   },
   "outputs": [],
   "source": [
    "data.head()"
   ]
  },
  {
   "cell_type": "code",
   "execution_count": null,
   "metadata": {},
   "outputs": [],
   "source": [
    "data.shape"
   ]
  },
  {
   "cell_type": "code",
   "execution_count": 20,
   "metadata": {},
   "outputs": [],
   "source": [
    "data = data.drop(['song_title', 'artist'], axis=1)"
   ]
  },
  {
   "cell_type": "code",
   "execution_count": null,
   "metadata": {},
   "outputs": [],
   "source": []
  },
  {
   "cell_type": "code",
   "execution_count": 23,
   "metadata": {},
   "outputs": [
    {
     "name": "stderr",
     "output_type": "stream",
     "text": [
      "C:\\Users\\innbal.menashri\\AppData\\Local\\Continuum\\anaconda3\\lib\\site-packages\\sklearn\\model_selection\\_split.py:2026: FutureWarning: From version 0.21, test_size will always complement train_size unless both are specified.\n",
      "  FutureWarning)\n"
     ]
    }
   ],
   "source": [
    "train, test = train_test_split(data, train_size=0.75, random_state=12345)\n",
    "\n",
    "train, dev = train_test_split(train, train_size=0.7, random_state=12345)"
   ]
  },
  {
   "cell_type": "code",
   "execution_count": 24,
   "metadata": {},
   "outputs": [
    {
     "name": "stdout",
     "output_type": "stream",
     "text": [
      "DT features importance \n",
      "acousticness        0.016801\n",
      "danceability        0.151355\n",
      "duration_ms         0.045687\n",
      "energy              0.118221\n",
      "instrumentalness    0.236026\n",
      "liveness            0.023708\n",
      "loudness            0.167922\n",
      "speechiness         0.072665\n",
      "tempo               0.054649\n",
      "valence             0.107338\n",
      "key_0               0.000000\n",
      "key_1               0.000000\n",
      "key_2               0.000000\n",
      "key_3               0.000000\n",
      "key_4               0.000000\n",
      "key_5               0.000000\n",
      "key_6               0.000000\n",
      "key_7               0.000000\n",
      "key_8               0.000000\n",
      "key_9               0.000000\n",
      "key_10              0.000000\n",
      "key_11              0.000000\n",
      "mode_0              0.000000\n",
      "mode_1              0.000000\n",
      "time_signature_1    0.000000\n",
      "time_signature_3    0.000000\n",
      "time_signature_4    0.005628\n",
      "time_signature_5    0.000000\n",
      "dtype: float64\n",
      "********** DC confusion matrix (train)*************\n",
      "     0    1\n",
      "0  385  123\n",
      "1  115  435\n",
      "accuracy(train): 0.775047258979206\n",
      "********** DC classification report (train) *************\n",
      "             precision    recall  f1-score   support\n",
      "\n",
      "          0       0.77      0.76      0.76       508\n",
      "          1       0.78      0.79      0.79       550\n",
      "\n",
      "avg / total       0.77      0.78      0.77      1058\n",
      "\n",
      "accuracy(dev): 0.7334801762114538\n",
      "********** DC classification report (test) *************\n",
      "             precision    recall  f1-score   support\n",
      "\n",
      "          0       0.78      0.71      0.75       249\n",
      "          1       0.69      0.76      0.72       205\n",
      "\n",
      "avg / total       0.74      0.73      0.73       454\n",
      "\n"
     ]
    }
   ],
   "source": [
    "#Fit to  the decision tree model \n",
    "dt = DecisionTreeClassifier(max_depth=5,\n",
    "                                   min_samples_split=10,\n",
    "                                   min_samples_leaf=10)\n",
    "X = train.drop('target', axis=1)\n",
    "y = train.target\n",
    "dt.fit(X, y)\n",
    "# Assest the model \n",
    "train['pred'] = dt.predict(X)\n",
    "print (\"DT features importance \")\n",
    "print (pd.Series(dt.feature_importances_,\n",
    "          index=X.columns))\n",
    "cm = confusion_matrix(y_true=train.target,\n",
    "                      y_pred=train.pred)\n",
    "print ( '********** DC confusion matrix (train)*************')\n",
    "print (pd.DataFrame(cm,\n",
    "             index=dt.classes_,\n",
    "             columns=dt.classes_))\n",
    "\n",
    "print ('accuracy(train):' , accuracy_score(y_true=train.target, y_pred=train.pred))\n",
    "print ( '********** DC classification report (train) *************')\n",
    "print (classification_report(y_true=train.target,\n",
    "                            y_pred=train.pred))\n",
    "\n",
    "# Validate the model on test \n",
    "X = dev.drop('target', axis=1)\n",
    "y = dev.target\n",
    "dev['pred'] = dt.predict(X)\n",
    "print ('accuracy(dev):' , accuracy_score(y_true=dev.target, y_pred=dev.pred))\n",
    "print ( '********** DC classification report (test) *************')\n",
    "print (classification_report(y_true=dev.target,\n",
    "                            y_pred=dev.pred))"
   ]
  },
  {
   "cell_type": "code",
   "execution_count": null,
   "metadata": {},
   "outputs": [],
   "source": []
  },
  {
   "cell_type": "code",
   "execution_count": null,
   "metadata": {},
   "outputs": [],
   "source": []
  },
  {
   "cell_type": "code",
   "execution_count": null,
   "metadata": {},
   "outputs": [],
   "source": []
  },
  {
   "cell_type": "code",
   "execution_count": null,
   "metadata": {},
   "outputs": [],
   "source": []
  },
  {
   "cell_type": "code",
   "execution_count": null,
   "metadata": {},
   "outputs": [],
   "source": []
  },
  {
   "cell_type": "code",
   "execution_count": null,
   "metadata": {},
   "outputs": [],
   "source": []
  },
  {
   "cell_type": "code",
   "execution_count": null,
   "metadata": {},
   "outputs": [],
   "source": [
    "train, test = train_test_split(data, train_size=0.75, random_state=12345)\n",
    "\n",
    "X = train.drop('target', axis=1)\n",
    "y = train['target']\n",
    "\n",
    "X_train, X_dev, y_train, y_dev = \\\n",
    "    train_test_split(X, y, train_size=0.7, random_state=12345)\n",
    "\n",
    "y_train.head()"
   ]
  },
  {
   "cell_type": "code",
   "execution_count": null,
   "metadata": {},
   "outputs": [],
   "source": [
    "X_dev.head()"
   ]
  },
  {
   "cell_type": "code",
   "execution_count": null,
   "metadata": {},
   "outputs": [],
   "source": [
    "train_no_artists = train.drop(['song_title', 'artist'], axis=1)\n",
    "\n",
    "X = train_no_artists.drop('target', axis=1)\n",
    "y = train_no_artists['target']\n",
    "\n",
    "X_train_no_artists, X_dev_no_artists, y_train_no_artists, y_dev_no_artists = \\\n",
    "    train_test_split(X, y, train_size=0.7, random_state=54321)\n",
    "\n",
    "y_train_no_artists.head()"
   ]
  },
  {
   "cell_type": "code",
   "execution_count": null,
   "metadata": {},
   "outputs": [],
   "source": [
    "clf_dt_no_artists = DecisionTreeClassifier()"
   ]
  },
  {
   "cell_type": "code",
   "execution_count": null,
   "metadata": {},
   "outputs": [],
   "source": [
    "clf_dt_no_artists.fit(X_train_no_artists, y_train_no_artists)"
   ]
  },
  {
   "cell_type": "code",
   "execution_count": null,
   "metadata": {},
   "outputs": [],
   "source": [
    "print(clf_dt_no_artists.classes_)"
   ]
  },
  {
   "cell_type": "code",
   "execution_count": null,
   "metadata": {},
   "outputs": [],
   "source": [
    "pd.Series(clf_dt_no_artists.feature_importances_,\n",
    "          index=X_train_no_artists.columns)"
   ]
  },
  {
   "cell_type": "code",
   "execution_count": null,
   "metadata": {},
   "outputs": [],
   "source": [
    "X_train_no_artists.shape"
   ]
  },
  {
   "cell_type": "code",
   "execution_count": null,
   "metadata": {},
   "outputs": [],
   "source": [
    "train_no_artists['target_pred_no_artists'] = clf_dt_no_artists.predict(X)\n",
    "train_no_artists.head(10)"
   ]
  },
  {
   "cell_type": "code",
   "execution_count": null,
   "metadata": {},
   "outputs": [],
   "source": [
    "print('Confusion Matrix for model without Artist and song names\\n')\n",
    "cm = confusion_matrix(y_true=train_no_artists.target,\n",
    "                      y_pred=train_no_artists.target_pred_no_artists)\n",
    "\n",
    "print(pd.DataFrame(cm,\n",
    "             index=clf_dt_no_artists.classes_,\n",
    "             columns=clf_dt_no_artists.classes_))"
   ]
  },
  {
   "cell_type": "code",
   "execution_count": null,
   "metadata": {},
   "outputs": [],
   "source": [
    "print('Classification Report for model without Artist and song names\\n')\n",
    "print(classification_report(y_true=train_no_artists.target,\n",
    "                      y_pred=train_no_artists.target_pred_no_artists))"
   ]
  },
  {
   "cell_type": "code",
   "execution_count": null,
   "metadata": {},
   "outputs": [],
   "source": [
    "print('Accuracy for model without Artist and song names\\n')\n",
    "print(accuracy_score(y_true=train_no_artists.target,\n",
    "                     y_pred=train_no_artists.target_pred_no_artists))"
   ]
  },
  {
   "cell_type": "code",
   "execution_count": null,
   "metadata": {},
   "outputs": [],
   "source": [
    "train_w_artists = train.drop(['song_title'], axis=1)\n",
    "\n",
    "train_w_artists = pd.get_dummies(train_w_artists, columns=['key', 'mode', 'time_signature', 'artist'], drop_first=False)\n",
    "\n",
    "X = train_w_artists.drop('target', axis=1)\n",
    "y = train_w_artists['target']\n",
    "\n",
    "X_train_w_artists, X_dev_w_artists, y_train_w_artists, y_dev_w_artists = \\\n",
    "    train_test_split(X, y, train_size=0.7, random_state=54321)\n",
    "\n",
    "y_train_w_artists.head()\n"
   ]
  },
  {
   "cell_type": "code",
   "execution_count": null,
   "metadata": {},
   "outputs": [],
   "source": [
    "clf_dt_w_artists = DecisionTreeClassifier()"
   ]
  },
  {
   "cell_type": "code",
   "execution_count": null,
   "metadata": {},
   "outputs": [],
   "source": [
    "clf_dt_w_artists.fit(X_train_w_artists, y_train_w_artists)"
   ]
  },
  {
   "cell_type": "code",
   "execution_count": null,
   "metadata": {},
   "outputs": [],
   "source": [
    "print(clf_dt_no_artists.classes_)"
   ]
  },
  {
   "cell_type": "code",
   "execution_count": null,
   "metadata": {},
   "outputs": [],
   "source": []
  }
 ],
 "metadata": {
  "anaconda-cloud": {},
  "kernelspec": {
   "display_name": "Python 3",
   "language": "python",
   "name": "python3"
  },
  "language_info": {
   "codemirror_mode": {
    "name": "ipython",
    "version": 3
   },
   "file_extension": ".py",
   "mimetype": "text/x-python",
   "name": "python",
   "nbconvert_exporter": "python",
   "pygments_lexer": "ipython3",
   "version": "3.6.5"
  }
 },
 "nbformat": 4,
 "nbformat_minor": 1
}
